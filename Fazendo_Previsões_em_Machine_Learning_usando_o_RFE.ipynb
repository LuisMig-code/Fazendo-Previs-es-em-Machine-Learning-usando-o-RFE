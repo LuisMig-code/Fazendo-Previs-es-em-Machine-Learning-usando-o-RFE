{
  "nbformat": 4,
  "nbformat_minor": 0,
  "metadata": {
    "colab": {
      "name": "Fazendo Previsões em Machine Learning usando o RFE.ipynb",
      "provenance": [],
      "collapsed_sections": [],
      "authorship_tag": "ABX9TyPdf4BazwUDqGgaCd5n1rwu",
      "include_colab_link": true
    },
    "kernelspec": {
      "name": "python3",
      "display_name": "Python 3"
    }
  },
  "cells": [
    {
      "cell_type": "markdown",
      "metadata": {
        "id": "view-in-github",
        "colab_type": "text"
      },
      "source": [
        "<a href=\"https://colab.research.google.com/github/LuisMig-code/Fazendo-Previs-es-em-Machine-Learning-usando-o-RFE/blob/main/Fazendo_Previs%C3%B5es_em_Machine_Learning_usando_o_RFE.ipynb\" target=\"_parent\"><img src=\"https://colab.research.google.com/assets/colab-badge.svg\" alt=\"Open In Colab\"/></a>"
      ]
    },
    {
      "cell_type": "markdown",
      "metadata": {
        "id": "oH0hqgNlQT53"
      },
      "source": [
        "# Estimações de preços com Machine Learning (Classificações)"
      ]
    },
    {
      "cell_type": "markdown",
      "metadata": {
        "id": "OHv3lgz3TGC_"
      },
      "source": [
        "Voltando um pouco às raízes , *Machine Learning* sempre é associado a vendas, predição de vendas , produção , entre outros . Com diversas aplicações no mundo dos negócios , rapidamente o Aprendizado de Máquinas (na verdade o *Data Science* no geral) virou requisito em muitas empresas.\r\n",
        "\r\n",
        "Hoje pretendo trazer um Modelo de *Machine Learning* que visa fazer previsões do preço de smatphones em uma loja , baseado em seus atributos de hardware para uma loja.\r\n",
        "\r\n",
        "<img src=\"https://images.pexels.com/photos/3869370/pexels-photo-3869370.jpeg?auto=compress&cs=tinysrgb&dpr=2&h=750&w=1260\" width=800px>\r\n",
        "\r\n",
        "Hoje , mais do que nunca , temos modelos e algoritimos incríveis que prevêm excelentes resultados "
      ]
    },
    {
      "cell_type": "markdown",
      "metadata": {
        "id": "_JTNZI3CVhEk"
      },
      "source": [
        "## Contextualizando"
      ]
    },
    {
      "cell_type": "markdown",
      "metadata": {
        "id": "QiNYbdM6VlFT"
      },
      "source": [
        "Bob iniciou sua própria empresa de telefonia móvel. Ele quer brigar duramente com grandes empresas como Apple, Samsung etc.\r\n",
        "\r\n",
        "Ele não sabe estimar o preço dos celulares que sua empresa cria. Neste competitivo mercado de telefonia móvel, você não pode simplesmente assumir as coisas. Para resolver esse problema, ele coleta dados de vendas de telefones celulares de várias empresas.\r\n",
        "\r\n",
        "Bob deseja descobrir alguma relação entre os recursos de um telefone móvel (por exemplo: - RAM, memória interna, etc.) e seu preço de venda. Mas ele não é muito bom em aprendizado de máquina. Então ele precisa de sua ajuda para resolver este problema.\r\n",
        "\r\n",
        "Neste problema, você não precisa prever o preço real, mas uma faixa de preço indicando quão alto é o preço\r\n",
        "\r\n",
        "**obs:Texto retirado direto da fonte dos dados**"
      ]
    },
    {
      "cell_type": "markdown",
      "metadata": {
        "id": "suR6kmPSVyNt"
      },
      "source": [
        "## Importanto os dados"
      ]
    },
    {
      "cell_type": "markdown",
      "metadata": {
        "id": "zTcPsga8V1Oy"
      },
      "source": [
        "Os dados ultilizados nesse Notebook foram extraido do Kaggle , você pode ter acesso clicando [aqui](https://www.kaggle.com/iabhishekofficial/mobile-price-classification)\r\n",
        "\r\n",
        "Nosso Conjunto de dados possui 2 arquivos , dados para teste e dados para treino , o primeiro é aquele que usaremos para fazer nosso modelo e medir suas estatísiticas , já o segundo é aquele em que será aplicado definitivamente nosso modelo e será usado por último\r\n",
        "\r\n",
        "Nos dados de treino temos 2000 entradas e 21 colunas , já em nossos dados de teste temos 1000 entradas e 20 colunas"
      ]
    },
    {
      "cell_type": "code",
      "metadata": {
        "id": "g7oLkXxKJoXI"
      },
      "source": [
        "# importar os pacotes necessários\r\n",
        "\r\n",
        "import pandas as pd\r\n",
        "import numpy as np\r\n",
        "import seaborn as sns\r\n",
        "sns.set_theme()\r\n",
        "import matplotlib.pyplot as plt\r\n",
        "\r\n",
        "from sklearn.linear_model import LogisticRegression\r\n",
        "from sklearn.ensemble import RandomForestClassifier\r\n",
        "from sklearn import svm\r\n",
        "from sklearn.feature_selection import RFE\r\n",
        "\r\n",
        "from sklearn.preprocessing import StandardScaler\r\n",
        "from sklearn.preprocessing import LabelEncoder\r\n",
        "from sklearn.metrics import accuracy_score\r\n",
        "from sklearn.metrics import classification_report\r\n",
        "from sklearn.model_selection import train_test_split"
      ],
      "execution_count": 23,
      "outputs": []
    },
    {
      "cell_type": "code",
      "metadata": {
        "id": "iimTzRZhM6jZ"
      },
      "source": [
        "link_test = 'https://www.dropbox.com/s/fjy6szcbnj04z7p/test.csv?dl=1'\r\n",
        "link_train = 'https://www.dropbox.com/s/qmniircx08w782f/train.csv?dl=1'"
      ],
      "execution_count": 24,
      "outputs": []
    },
    {
      "cell_type": "code",
      "metadata": {
        "id": "EG_mU90ZM_C-"
      },
      "source": [
        "dados_treino = pd.read_csv(link_train)\r\n",
        "dados_test = pd.read_csv(link_test)"
      ],
      "execution_count": 25,
      "outputs": []
    },
    {
      "cell_type": "markdown",
      "metadata": {
        "id": "Bhklp_UmNEmh"
      },
      "source": [
        "## Análise Exploratória"
      ]
    },
    {
      "cell_type": "markdown",
      "metadata": {
        "id": "k8lGSiFANI2r"
      },
      "source": [
        "Vamos ver como se comporta nossos dados , sua quantidade e o tipo de variável que temos . Para isso , seria interessente termos os significados das variáveis , como uma espécie de índice\r\n",
        "\r\n",
        "##### Dicionário dos nossos dados:\r\n",
        "\r\n",
        "*   **battery_power**\t= Energia total que uma bateria pode armazenar em um tempo medida em mAh\r\n",
        "* **blue**\t= Tem ou não tem bluetooth \r\n",
        "* **clock_speed**\t= velocidade na qual o microprocessador executa as instruções\r\n",
        "* **dual_sim**\t= Tem ou não suporte a 2 chips\r\n",
        "* **fc**\t= Megapixels da câmera frontal\r\n",
        "* **four_g**\t= Tem ou não suporte à 4G\r\n",
        "* **int_memory**\t= Memória Interna em Gigabytes\r\n",
        "* **m_dep**\t= Profundidade do celular em cm\r\n",
        "* **mobile_wt**\t= Peso do celular\r\n",
        "* **n_cores**\t= Número de núcleos do processador\r\n",
        "* **pc**\t= Megapixels da câmera primária\r\n",
        "* **px_height**\t= Altura de resolução de pixels\r\n",
        "* **px_width**\t= Largura de resolução de pixels\r\n",
        "* **ram**\t= Memória RAM em megabytes\r\n",
        "* **sc_h** =\tAltura da tela do celular em cm\r\n",
        "* **sc_w**\t= Largura da tela do celular em cm\r\n",
        "* **talk_time** =\to tempo mais longo que uma única carga da bateria dura quando você fala no celular\r\n",
        "* **three_g**\t= Tem ou não suporte à 3G\r\n",
        "* **touch_screen** = Tem ou não Touch Screen \t\r\n",
        "* **wifi**\t= Tem ou não suporte à Wifi\r\n",
        "* **price_range** = faixa de preço , esta é a **variável alvo** com valor de 0 (custo baixo), 1 (custo médio), 2 (custo alto) e 3 (custo muito alto).\r\n"
      ]
    },
    {
      "cell_type": "code",
      "metadata": {
        "colab": {
          "base_uri": "https://localhost:8080/"
        },
        "id": "Vg-FmegVNBJ-",
        "outputId": "741d5d37-6aa7-4558-dc88-e74c0eb95838"
      },
      "source": [
        "# dimensões do dataframe\r\n",
        "print(\"Em nosso Dataframe de Treino temos:\")\r\n",
        "print(\"Linhas : {}\".format(dados_treino.shape[0]))\r\n",
        "print(\"Colunas : {}\".format(dados_treino.shape[1]))"
      ],
      "execution_count": 26,
      "outputs": [
        {
          "output_type": "stream",
          "text": [
            "Em nosso Dataframe de Treino temos:\n",
            "Linhas : 2000\n",
            "Colunas : 21\n"
          ],
          "name": "stdout"
        }
      ]
    },
    {
      "cell_type": "code",
      "metadata": {
        "colab": {
          "base_uri": "https://localhost:8080/"
        },
        "id": "x_6AUtzNQzoC",
        "outputId": "080de69c-c047-4fb0-8701-f31766626dfc"
      },
      "source": [
        "# ver tipo das variáveis\r\n",
        "dados_treino.dtypes"
      ],
      "execution_count": 27,
      "outputs": [
        {
          "output_type": "execute_result",
          "data": {
            "text/plain": [
              "battery_power      int64\n",
              "blue               int64\n",
              "clock_speed      float64\n",
              "dual_sim           int64\n",
              "fc                 int64\n",
              "four_g             int64\n",
              "int_memory         int64\n",
              "m_dep            float64\n",
              "mobile_wt          int64\n",
              "n_cores            int64\n",
              "pc                 int64\n",
              "px_height          int64\n",
              "px_width           int64\n",
              "ram                int64\n",
              "sc_h               int64\n",
              "sc_w               int64\n",
              "talk_time          int64\n",
              "three_g            int64\n",
              "touch_screen       int64\n",
              "wifi               int64\n",
              "price_range        int64\n",
              "dtype: object"
            ]
          },
          "metadata": {
            "tags": []
          },
          "execution_count": 27
        }
      ]
    },
    {
      "cell_type": "markdown",
      "metadata": {
        "id": "H_CGMuVzRGWz"
      },
      "source": [
        "Um fato que já podemos destacar é que **não** possuímos variáveis que sejam textos (strings) , isso é muito importante de se ressaltar , pois influência na escolha do nosso modelo"
      ]
    },
    {
      "cell_type": "code",
      "metadata": {
        "colab": {
          "base_uri": "https://localhost:8080/"
        },
        "id": "z5q3gDOmRDv7",
        "outputId": "0257fd38-7548-4d06-ec02-cd73c520b8b7"
      },
      "source": [
        "# ver se há valores nulos:\r\n",
        "dados_treino.isnull().sum()"
      ],
      "execution_count": 28,
      "outputs": [
        {
          "output_type": "execute_result",
          "data": {
            "text/plain": [
              "battery_power    0\n",
              "blue             0\n",
              "clock_speed      0\n",
              "dual_sim         0\n",
              "fc               0\n",
              "four_g           0\n",
              "int_memory       0\n",
              "m_dep            0\n",
              "mobile_wt        0\n",
              "n_cores          0\n",
              "pc               0\n",
              "px_height        0\n",
              "px_width         0\n",
              "ram              0\n",
              "sc_h             0\n",
              "sc_w             0\n",
              "talk_time        0\n",
              "three_g          0\n",
              "touch_screen     0\n",
              "wifi             0\n",
              "price_range      0\n",
              "dtype: int64"
            ]
          },
          "metadata": {
            "tags": []
          },
          "execution_count": 28
        }
      ]
    },
    {
      "cell_type": "markdown",
      "metadata": {
        "id": "Uoj0Nv_wR1B0"
      },
      "source": [
        "Assim como também não possuímos valores nulos em nenhum de nossos dados , evitando assim possíveis erros de nosso modelo"
      ]
    },
    {
      "cell_type": "code",
      "metadata": {
        "colab": {
          "base_uri": "https://localhost:8080/",
          "height": 720
        },
        "id": "BflodICwRyco",
        "outputId": "51cb3827-acdc-4b09-8e5a-5e04764b891c"
      },
      "source": [
        "# Verificando a correlação entre os dados\r\n",
        "dados_treino.corr()"
      ],
      "execution_count": 29,
      "outputs": [
        {
          "output_type": "execute_result",
          "data": {
            "text/html": [
              "<div>\n",
              "<style scoped>\n",
              "    .dataframe tbody tr th:only-of-type {\n",
              "        vertical-align: middle;\n",
              "    }\n",
              "\n",
              "    .dataframe tbody tr th {\n",
              "        vertical-align: top;\n",
              "    }\n",
              "\n",
              "    .dataframe thead th {\n",
              "        text-align: right;\n",
              "    }\n",
              "</style>\n",
              "<table border=\"1\" class=\"dataframe\">\n",
              "  <thead>\n",
              "    <tr style=\"text-align: right;\">\n",
              "      <th></th>\n",
              "      <th>battery_power</th>\n",
              "      <th>blue</th>\n",
              "      <th>clock_speed</th>\n",
              "      <th>dual_sim</th>\n",
              "      <th>fc</th>\n",
              "      <th>four_g</th>\n",
              "      <th>int_memory</th>\n",
              "      <th>m_dep</th>\n",
              "      <th>mobile_wt</th>\n",
              "      <th>n_cores</th>\n",
              "      <th>pc</th>\n",
              "      <th>px_height</th>\n",
              "      <th>px_width</th>\n",
              "      <th>ram</th>\n",
              "      <th>sc_h</th>\n",
              "      <th>sc_w</th>\n",
              "      <th>talk_time</th>\n",
              "      <th>three_g</th>\n",
              "      <th>touch_screen</th>\n",
              "      <th>wifi</th>\n",
              "      <th>price_range</th>\n",
              "    </tr>\n",
              "  </thead>\n",
              "  <tbody>\n",
              "    <tr>\n",
              "      <th>battery_power</th>\n",
              "      <td>1.000000</td>\n",
              "      <td>0.011252</td>\n",
              "      <td>0.011482</td>\n",
              "      <td>-0.041847</td>\n",
              "      <td>0.033334</td>\n",
              "      <td>0.015665</td>\n",
              "      <td>-0.004004</td>\n",
              "      <td>0.034085</td>\n",
              "      <td>0.001844</td>\n",
              "      <td>-0.029727</td>\n",
              "      <td>0.031441</td>\n",
              "      <td>0.014901</td>\n",
              "      <td>-0.008402</td>\n",
              "      <td>-0.000653</td>\n",
              "      <td>-0.029959</td>\n",
              "      <td>-0.021421</td>\n",
              "      <td>0.052510</td>\n",
              "      <td>0.011522</td>\n",
              "      <td>-0.010516</td>\n",
              "      <td>-0.008343</td>\n",
              "      <td>0.200723</td>\n",
              "    </tr>\n",
              "    <tr>\n",
              "      <th>blue</th>\n",
              "      <td>0.011252</td>\n",
              "      <td>1.000000</td>\n",
              "      <td>0.021419</td>\n",
              "      <td>0.035198</td>\n",
              "      <td>0.003593</td>\n",
              "      <td>0.013443</td>\n",
              "      <td>0.041177</td>\n",
              "      <td>0.004049</td>\n",
              "      <td>-0.008605</td>\n",
              "      <td>0.036161</td>\n",
              "      <td>-0.009952</td>\n",
              "      <td>-0.006872</td>\n",
              "      <td>-0.041533</td>\n",
              "      <td>0.026351</td>\n",
              "      <td>-0.002952</td>\n",
              "      <td>0.000613</td>\n",
              "      <td>0.013934</td>\n",
              "      <td>-0.030236</td>\n",
              "      <td>0.010061</td>\n",
              "      <td>-0.021863</td>\n",
              "      <td>0.020573</td>\n",
              "    </tr>\n",
              "    <tr>\n",
              "      <th>clock_speed</th>\n",
              "      <td>0.011482</td>\n",
              "      <td>0.021419</td>\n",
              "      <td>1.000000</td>\n",
              "      <td>-0.001315</td>\n",
              "      <td>-0.000434</td>\n",
              "      <td>-0.043073</td>\n",
              "      <td>0.006545</td>\n",
              "      <td>-0.014364</td>\n",
              "      <td>0.012350</td>\n",
              "      <td>-0.005724</td>\n",
              "      <td>-0.005245</td>\n",
              "      <td>-0.014523</td>\n",
              "      <td>-0.009476</td>\n",
              "      <td>0.003443</td>\n",
              "      <td>-0.029078</td>\n",
              "      <td>-0.007378</td>\n",
              "      <td>-0.011432</td>\n",
              "      <td>-0.046433</td>\n",
              "      <td>0.019756</td>\n",
              "      <td>-0.024471</td>\n",
              "      <td>-0.006606</td>\n",
              "    </tr>\n",
              "    <tr>\n",
              "      <th>dual_sim</th>\n",
              "      <td>-0.041847</td>\n",
              "      <td>0.035198</td>\n",
              "      <td>-0.001315</td>\n",
              "      <td>1.000000</td>\n",
              "      <td>-0.029123</td>\n",
              "      <td>0.003187</td>\n",
              "      <td>-0.015679</td>\n",
              "      <td>-0.022142</td>\n",
              "      <td>-0.008979</td>\n",
              "      <td>-0.024658</td>\n",
              "      <td>-0.017143</td>\n",
              "      <td>-0.020875</td>\n",
              "      <td>0.014291</td>\n",
              "      <td>0.041072</td>\n",
              "      <td>-0.011949</td>\n",
              "      <td>-0.016666</td>\n",
              "      <td>-0.039404</td>\n",
              "      <td>-0.014008</td>\n",
              "      <td>-0.017117</td>\n",
              "      <td>0.022740</td>\n",
              "      <td>0.017444</td>\n",
              "    </tr>\n",
              "    <tr>\n",
              "      <th>fc</th>\n",
              "      <td>0.033334</td>\n",
              "      <td>0.003593</td>\n",
              "      <td>-0.000434</td>\n",
              "      <td>-0.029123</td>\n",
              "      <td>1.000000</td>\n",
              "      <td>-0.016560</td>\n",
              "      <td>-0.029133</td>\n",
              "      <td>-0.001791</td>\n",
              "      <td>0.023618</td>\n",
              "      <td>-0.013356</td>\n",
              "      <td>0.644595</td>\n",
              "      <td>-0.009990</td>\n",
              "      <td>-0.005176</td>\n",
              "      <td>0.015099</td>\n",
              "      <td>-0.011014</td>\n",
              "      <td>-0.012373</td>\n",
              "      <td>-0.006829</td>\n",
              "      <td>0.001793</td>\n",
              "      <td>-0.014828</td>\n",
              "      <td>0.020085</td>\n",
              "      <td>0.021998</td>\n",
              "    </tr>\n",
              "    <tr>\n",
              "      <th>four_g</th>\n",
              "      <td>0.015665</td>\n",
              "      <td>0.013443</td>\n",
              "      <td>-0.043073</td>\n",
              "      <td>0.003187</td>\n",
              "      <td>-0.016560</td>\n",
              "      <td>1.000000</td>\n",
              "      <td>0.008690</td>\n",
              "      <td>-0.001823</td>\n",
              "      <td>-0.016537</td>\n",
              "      <td>-0.029706</td>\n",
              "      <td>-0.005598</td>\n",
              "      <td>-0.019236</td>\n",
              "      <td>0.007448</td>\n",
              "      <td>0.007313</td>\n",
              "      <td>0.027166</td>\n",
              "      <td>0.037005</td>\n",
              "      <td>-0.046628</td>\n",
              "      <td>0.584246</td>\n",
              "      <td>0.016758</td>\n",
              "      <td>-0.017620</td>\n",
              "      <td>0.014772</td>\n",
              "    </tr>\n",
              "    <tr>\n",
              "      <th>int_memory</th>\n",
              "      <td>-0.004004</td>\n",
              "      <td>0.041177</td>\n",
              "      <td>0.006545</td>\n",
              "      <td>-0.015679</td>\n",
              "      <td>-0.029133</td>\n",
              "      <td>0.008690</td>\n",
              "      <td>1.000000</td>\n",
              "      <td>0.006886</td>\n",
              "      <td>-0.034214</td>\n",
              "      <td>-0.028310</td>\n",
              "      <td>-0.033273</td>\n",
              "      <td>0.010441</td>\n",
              "      <td>-0.008335</td>\n",
              "      <td>0.032813</td>\n",
              "      <td>0.037771</td>\n",
              "      <td>0.011731</td>\n",
              "      <td>-0.002790</td>\n",
              "      <td>-0.009366</td>\n",
              "      <td>-0.026999</td>\n",
              "      <td>0.006993</td>\n",
              "      <td>0.044435</td>\n",
              "    </tr>\n",
              "    <tr>\n",
              "      <th>m_dep</th>\n",
              "      <td>0.034085</td>\n",
              "      <td>0.004049</td>\n",
              "      <td>-0.014364</td>\n",
              "      <td>-0.022142</td>\n",
              "      <td>-0.001791</td>\n",
              "      <td>-0.001823</td>\n",
              "      <td>0.006886</td>\n",
              "      <td>1.000000</td>\n",
              "      <td>0.021756</td>\n",
              "      <td>-0.003504</td>\n",
              "      <td>0.026282</td>\n",
              "      <td>0.025263</td>\n",
              "      <td>0.023566</td>\n",
              "      <td>-0.009434</td>\n",
              "      <td>-0.025348</td>\n",
              "      <td>-0.018388</td>\n",
              "      <td>0.017003</td>\n",
              "      <td>-0.012065</td>\n",
              "      <td>-0.002638</td>\n",
              "      <td>-0.028353</td>\n",
              "      <td>0.000853</td>\n",
              "    </tr>\n",
              "    <tr>\n",
              "      <th>mobile_wt</th>\n",
              "      <td>0.001844</td>\n",
              "      <td>-0.008605</td>\n",
              "      <td>0.012350</td>\n",
              "      <td>-0.008979</td>\n",
              "      <td>0.023618</td>\n",
              "      <td>-0.016537</td>\n",
              "      <td>-0.034214</td>\n",
              "      <td>0.021756</td>\n",
              "      <td>1.000000</td>\n",
              "      <td>-0.018989</td>\n",
              "      <td>0.018844</td>\n",
              "      <td>0.000939</td>\n",
              "      <td>0.000090</td>\n",
              "      <td>-0.002581</td>\n",
              "      <td>-0.033855</td>\n",
              "      <td>-0.020761</td>\n",
              "      <td>0.006209</td>\n",
              "      <td>0.001551</td>\n",
              "      <td>-0.014368</td>\n",
              "      <td>-0.000409</td>\n",
              "      <td>-0.030302</td>\n",
              "    </tr>\n",
              "    <tr>\n",
              "      <th>n_cores</th>\n",
              "      <td>-0.029727</td>\n",
              "      <td>0.036161</td>\n",
              "      <td>-0.005724</td>\n",
              "      <td>-0.024658</td>\n",
              "      <td>-0.013356</td>\n",
              "      <td>-0.029706</td>\n",
              "      <td>-0.028310</td>\n",
              "      <td>-0.003504</td>\n",
              "      <td>-0.018989</td>\n",
              "      <td>1.000000</td>\n",
              "      <td>-0.001193</td>\n",
              "      <td>-0.006872</td>\n",
              "      <td>0.024480</td>\n",
              "      <td>0.004868</td>\n",
              "      <td>-0.000315</td>\n",
              "      <td>0.025826</td>\n",
              "      <td>0.013148</td>\n",
              "      <td>-0.014733</td>\n",
              "      <td>0.023774</td>\n",
              "      <td>-0.009964</td>\n",
              "      <td>0.004399</td>\n",
              "    </tr>\n",
              "    <tr>\n",
              "      <th>pc</th>\n",
              "      <td>0.031441</td>\n",
              "      <td>-0.009952</td>\n",
              "      <td>-0.005245</td>\n",
              "      <td>-0.017143</td>\n",
              "      <td>0.644595</td>\n",
              "      <td>-0.005598</td>\n",
              "      <td>-0.033273</td>\n",
              "      <td>0.026282</td>\n",
              "      <td>0.018844</td>\n",
              "      <td>-0.001193</td>\n",
              "      <td>1.000000</td>\n",
              "      <td>-0.018465</td>\n",
              "      <td>0.004196</td>\n",
              "      <td>0.028984</td>\n",
              "      <td>0.004938</td>\n",
              "      <td>-0.023819</td>\n",
              "      <td>0.014657</td>\n",
              "      <td>-0.001322</td>\n",
              "      <td>-0.008742</td>\n",
              "      <td>0.005389</td>\n",
              "      <td>0.033599</td>\n",
              "    </tr>\n",
              "    <tr>\n",
              "      <th>px_height</th>\n",
              "      <td>0.014901</td>\n",
              "      <td>-0.006872</td>\n",
              "      <td>-0.014523</td>\n",
              "      <td>-0.020875</td>\n",
              "      <td>-0.009990</td>\n",
              "      <td>-0.019236</td>\n",
              "      <td>0.010441</td>\n",
              "      <td>0.025263</td>\n",
              "      <td>0.000939</td>\n",
              "      <td>-0.006872</td>\n",
              "      <td>-0.018465</td>\n",
              "      <td>1.000000</td>\n",
              "      <td>0.510664</td>\n",
              "      <td>-0.020352</td>\n",
              "      <td>0.059615</td>\n",
              "      <td>0.043038</td>\n",
              "      <td>-0.010645</td>\n",
              "      <td>-0.031174</td>\n",
              "      <td>0.021891</td>\n",
              "      <td>0.051824</td>\n",
              "      <td>0.148858</td>\n",
              "    </tr>\n",
              "    <tr>\n",
              "      <th>px_width</th>\n",
              "      <td>-0.008402</td>\n",
              "      <td>-0.041533</td>\n",
              "      <td>-0.009476</td>\n",
              "      <td>0.014291</td>\n",
              "      <td>-0.005176</td>\n",
              "      <td>0.007448</td>\n",
              "      <td>-0.008335</td>\n",
              "      <td>0.023566</td>\n",
              "      <td>0.000090</td>\n",
              "      <td>0.024480</td>\n",
              "      <td>0.004196</td>\n",
              "      <td>0.510664</td>\n",
              "      <td>1.000000</td>\n",
              "      <td>0.004105</td>\n",
              "      <td>0.021599</td>\n",
              "      <td>0.034699</td>\n",
              "      <td>0.006720</td>\n",
              "      <td>0.000350</td>\n",
              "      <td>-0.001628</td>\n",
              "      <td>0.030319</td>\n",
              "      <td>0.165818</td>\n",
              "    </tr>\n",
              "    <tr>\n",
              "      <th>ram</th>\n",
              "      <td>-0.000653</td>\n",
              "      <td>0.026351</td>\n",
              "      <td>0.003443</td>\n",
              "      <td>0.041072</td>\n",
              "      <td>0.015099</td>\n",
              "      <td>0.007313</td>\n",
              "      <td>0.032813</td>\n",
              "      <td>-0.009434</td>\n",
              "      <td>-0.002581</td>\n",
              "      <td>0.004868</td>\n",
              "      <td>0.028984</td>\n",
              "      <td>-0.020352</td>\n",
              "      <td>0.004105</td>\n",
              "      <td>1.000000</td>\n",
              "      <td>0.015996</td>\n",
              "      <td>0.035576</td>\n",
              "      <td>0.010820</td>\n",
              "      <td>0.015795</td>\n",
              "      <td>-0.030455</td>\n",
              "      <td>0.022669</td>\n",
              "      <td>0.917046</td>\n",
              "    </tr>\n",
              "    <tr>\n",
              "      <th>sc_h</th>\n",
              "      <td>-0.029959</td>\n",
              "      <td>-0.002952</td>\n",
              "      <td>-0.029078</td>\n",
              "      <td>-0.011949</td>\n",
              "      <td>-0.011014</td>\n",
              "      <td>0.027166</td>\n",
              "      <td>0.037771</td>\n",
              "      <td>-0.025348</td>\n",
              "      <td>-0.033855</td>\n",
              "      <td>-0.000315</td>\n",
              "      <td>0.004938</td>\n",
              "      <td>0.059615</td>\n",
              "      <td>0.021599</td>\n",
              "      <td>0.015996</td>\n",
              "      <td>1.000000</td>\n",
              "      <td>0.506144</td>\n",
              "      <td>-0.017335</td>\n",
              "      <td>0.012033</td>\n",
              "      <td>-0.020023</td>\n",
              "      <td>0.025929</td>\n",
              "      <td>0.022986</td>\n",
              "    </tr>\n",
              "    <tr>\n",
              "      <th>sc_w</th>\n",
              "      <td>-0.021421</td>\n",
              "      <td>0.000613</td>\n",
              "      <td>-0.007378</td>\n",
              "      <td>-0.016666</td>\n",
              "      <td>-0.012373</td>\n",
              "      <td>0.037005</td>\n",
              "      <td>0.011731</td>\n",
              "      <td>-0.018388</td>\n",
              "      <td>-0.020761</td>\n",
              "      <td>0.025826</td>\n",
              "      <td>-0.023819</td>\n",
              "      <td>0.043038</td>\n",
              "      <td>0.034699</td>\n",
              "      <td>0.035576</td>\n",
              "      <td>0.506144</td>\n",
              "      <td>1.000000</td>\n",
              "      <td>-0.022821</td>\n",
              "      <td>0.030941</td>\n",
              "      <td>0.012720</td>\n",
              "      <td>0.035423</td>\n",
              "      <td>0.038711</td>\n",
              "    </tr>\n",
              "    <tr>\n",
              "      <th>talk_time</th>\n",
              "      <td>0.052510</td>\n",
              "      <td>0.013934</td>\n",
              "      <td>-0.011432</td>\n",
              "      <td>-0.039404</td>\n",
              "      <td>-0.006829</td>\n",
              "      <td>-0.046628</td>\n",
              "      <td>-0.002790</td>\n",
              "      <td>0.017003</td>\n",
              "      <td>0.006209</td>\n",
              "      <td>0.013148</td>\n",
              "      <td>0.014657</td>\n",
              "      <td>-0.010645</td>\n",
              "      <td>0.006720</td>\n",
              "      <td>0.010820</td>\n",
              "      <td>-0.017335</td>\n",
              "      <td>-0.022821</td>\n",
              "      <td>1.000000</td>\n",
              "      <td>-0.042688</td>\n",
              "      <td>0.017196</td>\n",
              "      <td>-0.029504</td>\n",
              "      <td>0.021859</td>\n",
              "    </tr>\n",
              "    <tr>\n",
              "      <th>three_g</th>\n",
              "      <td>0.011522</td>\n",
              "      <td>-0.030236</td>\n",
              "      <td>-0.046433</td>\n",
              "      <td>-0.014008</td>\n",
              "      <td>0.001793</td>\n",
              "      <td>0.584246</td>\n",
              "      <td>-0.009366</td>\n",
              "      <td>-0.012065</td>\n",
              "      <td>0.001551</td>\n",
              "      <td>-0.014733</td>\n",
              "      <td>-0.001322</td>\n",
              "      <td>-0.031174</td>\n",
              "      <td>0.000350</td>\n",
              "      <td>0.015795</td>\n",
              "      <td>0.012033</td>\n",
              "      <td>0.030941</td>\n",
              "      <td>-0.042688</td>\n",
              "      <td>1.000000</td>\n",
              "      <td>0.013917</td>\n",
              "      <td>0.004316</td>\n",
              "      <td>0.023611</td>\n",
              "    </tr>\n",
              "    <tr>\n",
              "      <th>touch_screen</th>\n",
              "      <td>-0.010516</td>\n",
              "      <td>0.010061</td>\n",
              "      <td>0.019756</td>\n",
              "      <td>-0.017117</td>\n",
              "      <td>-0.014828</td>\n",
              "      <td>0.016758</td>\n",
              "      <td>-0.026999</td>\n",
              "      <td>-0.002638</td>\n",
              "      <td>-0.014368</td>\n",
              "      <td>0.023774</td>\n",
              "      <td>-0.008742</td>\n",
              "      <td>0.021891</td>\n",
              "      <td>-0.001628</td>\n",
              "      <td>-0.030455</td>\n",
              "      <td>-0.020023</td>\n",
              "      <td>0.012720</td>\n",
              "      <td>0.017196</td>\n",
              "      <td>0.013917</td>\n",
              "      <td>1.000000</td>\n",
              "      <td>0.011917</td>\n",
              "      <td>-0.030411</td>\n",
              "    </tr>\n",
              "    <tr>\n",
              "      <th>wifi</th>\n",
              "      <td>-0.008343</td>\n",
              "      <td>-0.021863</td>\n",
              "      <td>-0.024471</td>\n",
              "      <td>0.022740</td>\n",
              "      <td>0.020085</td>\n",
              "      <td>-0.017620</td>\n",
              "      <td>0.006993</td>\n",
              "      <td>-0.028353</td>\n",
              "      <td>-0.000409</td>\n",
              "      <td>-0.009964</td>\n",
              "      <td>0.005389</td>\n",
              "      <td>0.051824</td>\n",
              "      <td>0.030319</td>\n",
              "      <td>0.022669</td>\n",
              "      <td>0.025929</td>\n",
              "      <td>0.035423</td>\n",
              "      <td>-0.029504</td>\n",
              "      <td>0.004316</td>\n",
              "      <td>0.011917</td>\n",
              "      <td>1.000000</td>\n",
              "      <td>0.018785</td>\n",
              "    </tr>\n",
              "    <tr>\n",
              "      <th>price_range</th>\n",
              "      <td>0.200723</td>\n",
              "      <td>0.020573</td>\n",
              "      <td>-0.006606</td>\n",
              "      <td>0.017444</td>\n",
              "      <td>0.021998</td>\n",
              "      <td>0.014772</td>\n",
              "      <td>0.044435</td>\n",
              "      <td>0.000853</td>\n",
              "      <td>-0.030302</td>\n",
              "      <td>0.004399</td>\n",
              "      <td>0.033599</td>\n",
              "      <td>0.148858</td>\n",
              "      <td>0.165818</td>\n",
              "      <td>0.917046</td>\n",
              "      <td>0.022986</td>\n",
              "      <td>0.038711</td>\n",
              "      <td>0.021859</td>\n",
              "      <td>0.023611</td>\n",
              "      <td>-0.030411</td>\n",
              "      <td>0.018785</td>\n",
              "      <td>1.000000</td>\n",
              "    </tr>\n",
              "  </tbody>\n",
              "</table>\n",
              "</div>"
            ],
            "text/plain": [
              "               battery_power      blue  ...      wifi  price_range\n",
              "battery_power       1.000000  0.011252  ... -0.008343     0.200723\n",
              "blue                0.011252  1.000000  ... -0.021863     0.020573\n",
              "clock_speed         0.011482  0.021419  ... -0.024471    -0.006606\n",
              "dual_sim           -0.041847  0.035198  ...  0.022740     0.017444\n",
              "fc                  0.033334  0.003593  ...  0.020085     0.021998\n",
              "four_g              0.015665  0.013443  ... -0.017620     0.014772\n",
              "int_memory         -0.004004  0.041177  ...  0.006993     0.044435\n",
              "m_dep               0.034085  0.004049  ... -0.028353     0.000853\n",
              "mobile_wt           0.001844 -0.008605  ... -0.000409    -0.030302\n",
              "n_cores            -0.029727  0.036161  ... -0.009964     0.004399\n",
              "pc                  0.031441 -0.009952  ...  0.005389     0.033599\n",
              "px_height           0.014901 -0.006872  ...  0.051824     0.148858\n",
              "px_width           -0.008402 -0.041533  ...  0.030319     0.165818\n",
              "ram                -0.000653  0.026351  ...  0.022669     0.917046\n",
              "sc_h               -0.029959 -0.002952  ...  0.025929     0.022986\n",
              "sc_w               -0.021421  0.000613  ...  0.035423     0.038711\n",
              "talk_time           0.052510  0.013934  ... -0.029504     0.021859\n",
              "three_g             0.011522 -0.030236  ...  0.004316     0.023611\n",
              "touch_screen       -0.010516  0.010061  ...  0.011917    -0.030411\n",
              "wifi               -0.008343 -0.021863  ...  1.000000     0.018785\n",
              "price_range         0.200723  0.020573  ...  0.018785     1.000000\n",
              "\n",
              "[21 rows x 21 columns]"
            ]
          },
          "metadata": {
            "tags": []
          },
          "execution_count": 29
        }
      ]
    },
    {
      "cell_type": "markdown",
      "metadata": {
        "id": "UlacqWLdSLj9"
      },
      "source": [
        "Neste último podemos verificar a correlação entre nossos dados , entretanto , como possuímos muitas colunas a interpretação de nossos dados pode ser comprometida , para isso o ideal é uma análise gráfica."
      ]
    },
    {
      "cell_type": "markdown",
      "metadata": {
        "id": "5Ma4K83BScZY"
      },
      "source": [
        "## Análises gráficas"
      ]
    },
    {
      "cell_type": "markdown",
      "metadata": {
        "id": "hQKJ-0ntSfKJ"
      },
      "source": [
        "Vamos começar com um gráfico de calor (heatmap) para verificar a correlação presente em nossas variáveis e como podem se comportar na hora da produção de nosso modelo"
      ]
    },
    {
      "cell_type": "code",
      "metadata": {
        "colab": {
          "base_uri": "https://localhost:8080/",
          "height": 920
        },
        "id": "KWphDKyoSeja",
        "outputId": "7a7e3765-41a3-4ead-e18a-7373e936edba"
      },
      "source": [
        "# plotando o heatmap\r\n",
        "fig, ax = plt.subplots(figsize=(14,14))\r\n",
        "ax = sns.heatmap(dados_treino.corr(), cmap='coolwarm', ax=ax , linewidths=.9)\r\n",
        "ax.set_title(\"Correlação das Variáveis\" , fontsize = 40 , loc=\"center\")\r\n",
        "ax = ax\r\n",
        "plt.show()"
      ],
      "execution_count": 30,
      "outputs": [
        {
          "output_type": "display_data",
          "data": {
            "image/png": "[encoded data removed]",
            "text/plain": [
              "<Figure size 1008x1008 with 2 Axes>"
            ]
          },
          "metadata": {
            "tags": []
          }
        }
      ]
    },
    {
      "cell_type": "markdown",
      "metadata": {
        "id": "sjndfIzPTbmB"
      },
      "source": [
        "Como podemos observar , a variável que nos interessa é a \"*price_range*\" , que no geral não possui muitas relações com todas as variáveis , mas ainda há com algumas , como por exemplo \"*battery_power*\" , mas isso analisaremos mais profundamente posteriormente "
      ]
    },
    {
      "cell_type": "markdown",
      "metadata": {
        "id": "n3qUJLXkXxCC"
      },
      "source": [
        "Gostiaria também de visualizar a distribuição da nossa variável alvo , a faixa de preço dos celulares"
      ]
    },
    {
      "cell_type": "code",
      "metadata": {
        "id": "eAxmDiazS6sf",
        "colab": {
          "base_uri": "https://localhost:8080/",
          "height": 365
        },
        "outputId": "9de3ac46-2dbe-41aa-be8a-0c6671602b70"
      },
      "source": [
        "# plotar distplot do preço\r\n",
        "ax = sns.displot(dados_treino.price_range.astype(str) , color = 'g')\r\n",
        "ax=ax"
      ],
      "execution_count": 31,
      "outputs": [
        {
          "output_type": "display_data",
          "data": {
            "image/png": "[encoded data removed]",
            "text/plain": [
              "<Figure size 360x360 with 1 Axes>"
            ]
          },
          "metadata": {
            "tags": []
          }
        }
      ]
    },
    {
      "cell_type": "markdown",
      "metadata": {
        "id": "5A9Afn3mdQyT"
      },
      "source": [
        "Como podemos ver , em nosso dataset temos número de entradas iguais para cada \"*range*\" de preço , ou seja , estão uniformemente distribuidos . Mas e nossas *features* , ou seja as nossa variáveis do eixo X , será que estão bem distribuídas? será que não existem *outliers* em nossos dados? vamos verificar agora! "
      ]
    },
    {
      "cell_type": "code",
      "metadata": {
        "colab": {
          "base_uri": "https://localhost:8080/",
          "height": 903
        },
        "id": "kTpz1OhmYiHu",
        "outputId": "6c324607-2758-4fa7-fd5e-442c0ccd5663"
      },
      "source": [
        "# plotar o histograma das features\r\n",
        "fix, ax = plt.subplots(figsize=(16,12))\r\n",
        "dados_treino.drop('price_range', axis=1).hist(ax=ax,)\r\n",
        "plt.tight_layout()\r\n",
        "ax=ax"
      ],
      "execution_count": 32,
      "outputs": [
        {
          "output_type": "stream",
          "text": [
            "/usr/local/lib/python3.6/dist-packages/ipykernel_launcher.py:3: UserWarning: To output multiple subplots, the figure containing the passed axes is being cleared\n",
            "  This is separate from the ipykernel package so we can avoid doing imports until\n"
          ],
          "name": "stderr"
        },
        {
          "output_type": "display_data",
          "data": {
            "image/png": "[encoded data removed]",
            "text/plain": [
              "<Figure size 1152x864 with 20 Axes>"
            ]
          },
          "metadata": {
            "tags": []
          }
        }
      ]
    },
    {
      "cell_type": "markdown",
      "metadata": {
        "id": "zZpZ11jigjVL"
      },
      "source": [
        "Com esse gráfico podemos perceber que as nossas *features* se organizam de forma bem uniforme , podemos perceber que não existem outliers notáveis em nossas distribuições , agora estamos preparados para iniciar nosso modelo"
      ]
    },
    {
      "cell_type": "markdown",
      "metadata": {
        "id": "GegoYSFlllYl"
      },
      "source": [
        "\r\n",
        "\r\n",
        "---\r\n",
        "\r\n"
      ]
    },
    {
      "cell_type": "markdown",
      "metadata": {
        "id": "txuNOmxwg1Fi"
      },
      "source": [
        "## Machine Learning\r\n",
        "\r\n"
      ]
    },
    {
      "cell_type": "markdown",
      "metadata": {
        "id": "Mh0islK2g5Ns"
      },
      "source": [
        "O que estamos fazendo em nossa análise é criar um classificador para nos dizer qual o \"*price_range*\" , para tal vamos usar 3 classificadores e ver qual se comporta melhor e faz mais sentido para nossa análise, são eles:\r\n",
        "\r\n",
        "\r\n",
        "1.   Logistic Regression\r\n",
        "2.   Random Forest Classifier\r\n",
        "3.   SVM\r\n",
        "\r\n",
        "Para cada um deles irei fazer uma breve explicação e dizer qual será usado em nossa análise. Além disso , a fim de tornar nosso modelo mais rápido e mais leve irei usar o RFE - Recursive Feature Elimination ou Eliminação de Característica Recursiva - o nome é um pouco estranho , mas mais adiante irei explicá-lo e mostrar como é uma excelente opção para se implantar em modelos\r\n",
        "\r\n"
      ]
    },
    {
      "cell_type": "markdown",
      "metadata": {
        "id": "aVJ2cNV1m8xO"
      },
      "source": [
        "#### Dividindo nossos dados"
      ]
    },
    {
      "cell_type": "markdown",
      "metadata": {
        "id": "gZaWBs8MnCrY"
      },
      "source": [
        "é importante que saibamos que nossos dados devem ser dividido em dados de treino e dados de teste , tal como devemos escalá-los , para assim podermos ter uma alta precisão em nosso modelo"
      ]
    },
    {
      "cell_type": "code",
      "metadata": {
        "id": "pl2ai3PqnAug"
      },
      "source": [
        "# separar as variáveis independentes e variável alvo\r\n",
        "X = dados_treino.drop(['price_range'], axis=1)\r\n",
        "y = dados_treino['price_range']\r\n",
        "\r\n",
        "# dividir o dataset entre treino e teste\r\n",
        "X_treino, X_test, y_treino, y_test = train_test_split(X, y, test_size=0.3,stratify = y,shuffle=True,random_state=10)\r\n",
        "\r\n",
        "# padronizar as colunas numéricas\r\n",
        "X_treino = StandardScaler().fit_transform(X_treino)\r\n",
        "X_test = StandardScaler().fit_transform(X_test)\r\n",
        "\r\n",
        "# label encoder na variável alvo\r\n",
        "y_treino = LabelEncoder().fit_transform(y_treino)\r\n",
        "y_test = LabelEncoder().fit_transform(y_test)"
      ],
      "execution_count": 33,
      "outputs": []
    },
    {
      "cell_type": "markdown",
      "metadata": {
        "id": "o875qYdRlg_1"
      },
      "source": [
        "### Logistic Regression"
      ]
    },
    {
      "cell_type": "code",
      "metadata": {
        "id": "cT0NvmjBmpAm"
      },
      "source": [
        "# automatizando o modelo\r\n",
        "def modelo_show(modelo , X_treino , y_treino , X_test , y_test):\r\n",
        "  modelo.fit(X_treino , y_treino)\r\n",
        "  pred = modelo.predict(X_test)\r\n",
        "  acuracia = accuracy_score(y_test,pred)\r\n",
        "\r\n",
        "  print(\"A Acurácia foi média foi de:\" , acuracia)\r\n",
        "  print(classification_report(y_test, pred))"
      ],
      "execution_count": 34,
      "outputs": []
    },
    {
      "cell_type": "markdown",
      "metadata": {
        "id": "LfBoqe5olnuz"
      },
      "source": [
        "De maneira resumida , a Regressão Logísitica é usada para tomadas de decisões em forma de dados Binários , ou seja , partindo de um dataset em que nossas *features* (ou variáveis independentes X) são dados numéricos , podemos prever se a variável alvo (Y) será 1(True) ou 0(False) , por exemplo.\r\n",
        "\r\n",
        "Já antecipo , A Regressão Logística não será usada , visto que , como explicado acima , ela não se encaixa em nossos critérios . Estamos prevendo uma faixe de preço que vai de 0 à 3 , portanto não sendo binário , mas mesmo assim irei usá-la para mostrar algo interessante."
      ]
    },
    {
      "cell_type": "code",
      "metadata": {
        "id": "lByQDqafejuP",
        "colab": {
          "base_uri": "https://localhost:8080/"
        },
        "outputId": "239957e0-63f9-4584-ac14-e18e3b0fd3af"
      },
      "source": [
        "modelo = LogisticRegression(random_state=10)\r\n",
        "modelo_show(modelo , X_treino , y_treino , X_test , y_test)"
      ],
      "execution_count": 35,
      "outputs": [
        {
          "output_type": "stream",
          "text": [
            "A Acurácia foi média foi de: 0.97\n",
            "              precision    recall  f1-score   support\n",
            "\n",
            "           0       0.99      0.98      0.99       150\n",
            "           1       0.95      0.97      0.96       150\n",
            "           2       0.96      0.95      0.95       150\n",
            "           3       0.97      0.99      0.98       150\n",
            "\n",
            "    accuracy                           0.97       600\n",
            "   macro avg       0.97      0.97      0.97       600\n",
            "weighted avg       0.97      0.97      0.97       600\n",
            "\n"
          ],
          "name": "stdout"
        }
      ]
    },
    {
      "cell_type": "markdown",
      "metadata": {
        "id": "P2GUxmFTo7ea"
      },
      "source": [
        "Como podemos ver , obtivemos uma alta taxa de precisão , isso que dizer que nosso modelo é bom? né? NÃO . Apesar de um bom desempenho , é incorrento e incoerente usá-lo , o que podemos ter tido neste caso foi pura sorte , caso alteremos nosso *random_state* para outro valor podemos ter resultado ligeiramente diferentes , ou seja , não nos serve de forma alguma este modelo"
      ]
    },
    {
      "cell_type": "markdown",
      "metadata": {
        "id": "E_MlujwJqhyT"
      },
      "source": [
        "### Random Forest Classifier"
      ]
    },
    {
      "cell_type": "markdown",
      "metadata": {
        "id": "X0Vj-oC8qliU"
      },
      "source": [
        "O RFC ou Random Forest Classifier é um dos melhores algorítimos para se usar , isso por que sua estrutura permite que ele seja usado tanto para Classificação quanto para Regressão , sendo fundamental em muitas análises , porém muito genérico , mas ainda assim possui alta taxa de acertividade.\r\n",
        "\r\n",
        "\"*Uma floresta é composta por árvores. Diz-se que quanto mais árvores tem, mais robusta é a floresta. Florestas aleatórias criam árvores de decisão em amostras de dados selecionadas aleatoriamente, obtém previsões de cada árvore e seleciona a melhor solução por meio de votação. Também fornece um bom indicador da importância do recurso*\" - [fonte](https://massivefile.com/randomforestclassifier/)\r\n",
        "\r\n",
        "Em decorrência de ser uma floresta e não só uma árvore (como funciona o Decision Tree Classifier) podemos ter mais precisão e maiores ultilidades neste algorítimo"
      ]
    },
    {
      "cell_type": "code",
      "metadata": {
        "colab": {
          "base_uri": "https://localhost:8080/"
        },
        "id": "yxOGz6h6o1cD",
        "outputId": "0fa57432-90bc-42c7-8ec8-45077c507b0b"
      },
      "source": [
        "modelo_random_forest_classifier = RandomForestClassifier(random_state=10)\r\n",
        "modelo_show(modelo_random_forest_classifier , X_treino , y_treino , X_test , y_test)"
      ],
      "execution_count": 72,
      "outputs": [
        {
          "output_type": "stream",
          "text": [
            "A Acurácia foi média foi de: 0.25\n",
            "              precision    recall  f1-score   support\n",
            "\n",
            "           0       0.00      0.00      0.00       150\n",
            "           1       0.00      0.00      0.00       150\n",
            "           2       0.00      0.00      0.00       150\n",
            "           3       0.25      1.00      0.40       150\n",
            "\n",
            "    accuracy                           0.25       600\n",
            "   macro avg       0.06      0.25      0.10       600\n",
            "weighted avg       0.06      0.25      0.10       600\n",
            "\n"
          ],
          "name": "stdout"
        },
        {
          "output_type": "stream",
          "text": [
            "/usr/local/lib/python3.6/dist-packages/sklearn/metrics/_classification.py:1272: UndefinedMetricWarning: Precision and F-score are ill-defined and being set to 0.0 in labels with no predicted samples. Use `zero_division` parameter to control this behavior.\n",
            "  _warn_prf(average, modifier, msg_start, len(result))\n"
          ],
          "name": "stderr"
        }
      ]
    },
    {
      "cell_type": "markdown",
      "metadata": {
        "id": "bmq_TCzPsXQc"
      },
      "source": [
        "Com o RFC obtivemos uma precisão menor , porém usando um algorítimo correto . Mas não será só isso , é importante que saibamos que este resultado pode ser melhorado , para isso usaremos o RFE."
      ]
    },
    {
      "cell_type": "markdown",
      "metadata": {
        "id": "DuD_-wvMsnGg"
      },
      "source": [
        "#### RFE (Recursive Feature Elimination)"
      ]
    },
    {
      "cell_type": "markdown",
      "metadata": {
        "id": "E86gstrYsreg"
      },
      "source": [
        "Exercício de imaginação....\r\n",
        "\r\n",
        "imagine que em nossos dados não tenhamos apenas 20 colunas de *features* mas sim 2000 , evidentemente isso é muito . Agora imagine para nosso modelo de predição rodar cada coluna e difinir a sua \"participação\" na definição da variável Y? como assim? \r\n",
        "\r\n",
        "Lembra do nosso *Heatmap* , ou nosso gráfico de correlação? se você voltar lá agora vai perceber que existem variáveis que não alteram em nada nosso *price_range* , isso por que não tem relação! Voltando ao exemplo acima , imagine se pudéssemos falar para nosso Modelo o seguinte : \"Bem , caro modelo , existem 2000 *features* , mas eu vou te dizer logo quais dessas 2000 você deverá usar e lhe poupar um certo tempo e processamento\" . Assim funciona o RFE, vamos implatar ele agora:"
      ]
    },
    {
      "cell_type": "code",
      "metadata": {
        "id": "gii5VZMNsPDa"
      },
      "source": [
        "modelo_random_forest_classifier = RandomForestClassifier(random_state=10)"
      ],
      "execution_count": 69,
      "outputs": []
    },
    {
      "cell_type": "markdown",
      "metadata": {
        "id": "VUI7isRYuNl9"
      },
      "source": [
        "o RFE usa um modelo já feito como primeiro parâmetro , depois ele necessita que o usuário passe para ele quantas *features* devem ser escolhidas , ou seja , das 20 *features* que temos , vamos pedir ao modelo que selecione apenas 6 que mais tenham relação (ou influênciam diretamente) a variável alvo(Y) , em ordem crescente"
      ]
    },
    {
      "cell_type": "code",
      "metadata": {
        "id": "qF2le2HmuGUq"
      },
      "source": [
        "modelo_rfe = RFE(modelo_random_forest_classifier , n_features_to_select= 6)"
      ],
      "execution_count": 70,
      "outputs": []
    },
    {
      "cell_type": "code",
      "metadata": {
        "colab": {
          "base_uri": "https://localhost:8080/"
        },
        "id": "keCvLbwguI6u",
        "outputId": "3640f447-33b5-4485-dc71-48319afa6191"
      },
      "source": [
        "modelo_show(modelo_rfe , X_treino , y_treino , X_test , y_test)"
      ],
      "execution_count": 71,
      "outputs": [
        {
          "output_type": "stream",
          "text": [
            "A Acurácia foi média foi de: 0.25\n",
            "              precision    recall  f1-score   support\n",
            "\n",
            "           0       0.00      0.00      0.00       150\n",
            "           1       0.00      0.00      0.00       150\n",
            "           2       0.00      0.00      0.00       150\n",
            "           3       0.25      1.00      0.40       150\n",
            "\n",
            "    accuracy                           0.25       600\n",
            "   macro avg       0.06      0.25      0.10       600\n",
            "weighted avg       0.06      0.25      0.10       600\n",
            "\n"
          ],
          "name": "stdout"
        },
        {
          "output_type": "stream",
          "text": [
            "/usr/local/lib/python3.6/dist-packages/sklearn/metrics/_classification.py:1272: UndefinedMetricWarning: Precision and F-score are ill-defined and being set to 0.0 in labels with no predicted samples. Use `zero_division` parameter to control this behavior.\n",
            "  _warn_prf(average, modifier, msg_start, len(result))\n"
          ],
          "name": "stderr"
        }
      ]
    },
    {
      "cell_type": "markdown",
      "metadata": {
        "id": "NzA7cd0cu4YQ"
      },
      "source": [
        "Com isso já obitivemos um salto de precisão e velocidade de processamento , como dito anteriormente , o RFC é genérico e quanto mais claro fores as ordens para ele , melhores resultados obteremos , agora nosso modelo não precisará se preocupar em \"estudar\" 20 variáveis X e pode se \"concentrar\" apenas em 6 , e a partir daí buscar melhores resultados."
      ]
    },
    {
      "cell_type": "markdown",
      "metadata": {
        "id": "ywhCxXpmvcp_"
      },
      "source": [
        "Seria interessantes que soubéssemos quais variáveis são elas"
      ]
    },
    {
      "cell_type": "code",
      "metadata": {
        "colab": {
          "base_uri": "https://localhost:8080/"
        },
        "id": "_q-kxeTuuJ5-",
        "outputId": "eb0636bb-b3dd-46b7-a249-1d1148448931"
      },
      "source": [
        "print(\"As colunas mais importantes são:\")\r\n",
        "colunas = []\r\n",
        "for coluna in dados_treino.iloc[:,:-1].iloc[:, modelo_rfe.support_].head().columns:\r\n",
        "  colunas.append(coluna)\r\n",
        "  print(\"-\",coluna)"
      ],
      "execution_count": 40,
      "outputs": [
        {
          "output_type": "stream",
          "text": [
            "As colunas mais importantes são:\n",
            "- battery_power\n",
            "- int_memory\n",
            "- mobile_wt\n",
            "- px_height\n",
            "- px_width\n",
            "- ram\n"
          ],
          "name": "stdout"
        }
      ]
    },
    {
      "cell_type": "markdown",
      "metadata": {
        "id": "o5scQu0oxKFI"
      },
      "source": [
        "Dessa forma podemos saber quais colunas mais alteram no preço do celular"
      ]
    },
    {
      "cell_type": "markdown",
      "metadata": {
        "id": "XODHf_kpxPjF"
      },
      "source": [
        "### SVM"
      ]
    },
    {
      "cell_type": "markdown",
      "metadata": {
        "id": "OBf9Ljt3xpyJ"
      },
      "source": [
        "Assim como a Regressão Logística, o SVM tenta dividir nossos dados , não necessáriamente de forma binária , mas em um hipeplano , podendo ser de qualquer tipo , assim como na imagem abaixo:\r\n",
        "\r\n",
        "<img src=\"https://minerandodados.com.br/wp-content/uploads/2017/12/hiperplano.jpg\"> [fonte](https://minerandodados.com.br/famoso-svm/)\r\n",
        "\r\n",
        "<img src=\"https://scikit-learn.org/stable/_images/sphx_glr_plot_iris_svc_0011.png\"> [fonte](https://scikit-learn.org/stable/modules/svm.html)\r\n",
        "\r\n",
        "\r\n",
        "Para isso ele traça uma linha, buscando uma equação , que os divide.\r\n",
        "\r\n",
        "Para nosso caso não é tão pertinente usá-lo , tanto pelo fato já citado (ele não serviria para classificações com mais de 3 resultados) , quanto pelo de não suportar o RFE"
      ]
    },
    {
      "cell_type": "code",
      "metadata": {
        "colab": {
          "base_uri": "https://localhost:8080/"
        },
        "id": "WZh_BMqVwO_h",
        "outputId": "e5907762-d41e-4465-c1e8-2b5bd5e9351f"
      },
      "source": [
        "modelo = svm.SVC()\r\n",
        "modelo_show(modelo , X_treino , y_treino , X_test , y_test)"
      ],
      "execution_count": 41,
      "outputs": [
        {
          "output_type": "stream",
          "text": [
            "A Acurácia foi média foi de: 0.865\n",
            "              precision    recall  f1-score   support\n",
            "\n",
            "           0       0.93      0.91      0.92       150\n",
            "           1       0.80      0.79      0.80       150\n",
            "           2       0.80      0.83      0.81       150\n",
            "           3       0.94      0.93      0.93       150\n",
            "\n",
            "    accuracy                           0.86       600\n",
            "   macro avg       0.87      0.86      0.87       600\n",
            "weighted avg       0.87      0.86      0.87       600\n",
            "\n"
          ],
          "name": "stdout"
        }
      ]
    },
    {
      "cell_type": "markdown",
      "metadata": {
        "id": "UNGwMWBP0n04"
      },
      "source": [
        "Apesar de ter um bom desemprenho , o RFC ainda é melhor , possui uma média melhor , quando combinado com o RFE"
      ]
    },
    {
      "cell_type": "markdown",
      "metadata": {
        "id": "vrS8mpof5mAH"
      },
      "source": [
        "## Conclusões"
      ]
    },
    {
      "cell_type": "markdown",
      "metadata": {
        "id": "Wn8Vo_ae5sCH"
      },
      "source": [
        "Testamos diversos algorítimos que pudessem nos ajudar em nossa análise , o que nos pareceu mais promissor foi o **Random Forest Classifier** , que , quando unido ao RFE se tornou ainda melhor , optmizando nossos resultados , aumentando nossa precisão e velocidade do modelo."
      ]
    },
    {
      "cell_type": "code",
      "metadata": {
        "id": "KmIQQLdF6oRK"
      },
      "source": [
        ""
      ],
      "execution_count": null,
      "outputs": []
    }
  ]
}